{
 "cells": [
  {
   "cell_type": "code",
   "execution_count": 1,
   "id": "694652e8",
   "metadata": {},
   "outputs": [
    {
     "name": "stdout",
     "output_type": "stream",
     "text": [
      "Requirement already satisfied: tensorflow in /home/user/code/jupyterenvironment/lib/python3.9/site-packages (2.7.0)\n",
      "Requirement already satisfied: keras in /home/user/code/jupyterenvironment/lib/python3.9/site-packages (2.7.0)\n",
      "Requirement already satisfied: nltk in /home/user/code/jupyterenvironment/lib/python3.9/site-packages (3.6.5)\n",
      "Requirement already satisfied: spacy-stanza in /home/user/code/jupyterenvironment/lib/python3.9/site-packages (1.0.1)\n",
      "Requirement already satisfied: tensorflow-io-gcs-filesystem>=0.21.0 in /home/user/code/jupyterenvironment/lib/python3.9/site-packages (from tensorflow) (0.22.0)\n",
      "Requirement already satisfied: google-pasta>=0.1.1 in /home/user/code/jupyterenvironment/lib/python3.9/site-packages (from tensorflow) (0.2.0)\n",
      "Requirement already satisfied: absl-py>=0.4.0 in /home/user/code/jupyterenvironment/lib/python3.9/site-packages (from tensorflow) (1.0.0)\n",
      "Requirement already satisfied: astunparse>=1.6.0 in /home/user/code/jupyterenvironment/lib/python3.9/site-packages (from tensorflow) (1.6.3)\n",
      "Requirement already satisfied: numpy>=1.14.5 in /home/user/code/jupyterenvironment/lib/python3.9/site-packages (from tensorflow) (1.21.4)\n",
      "Requirement already satisfied: libclang>=9.0.1 in /home/user/code/jupyterenvironment/lib/python3.9/site-packages (from tensorflow) (12.0.0)\n",
      "Requirement already satisfied: termcolor>=1.1.0 in /home/user/code/jupyterenvironment/lib/python3.9/site-packages (from tensorflow) (1.1.0)\n",
      "Requirement already satisfied: tensorboard~=2.6 in /home/user/code/jupyterenvironment/lib/python3.9/site-packages (from tensorflow) (2.7.0)\n",
      "Requirement already satisfied: opt-einsum>=2.3.2 in /home/user/code/jupyterenvironment/lib/python3.9/site-packages (from tensorflow) (3.3.0)\n",
      "Requirement already satisfied: six>=1.12.0 in /home/user/code/jupyterenvironment/lib/python3.9/site-packages (from tensorflow) (1.16.0)\n",
      "Requirement already satisfied: grpcio<2.0,>=1.24.3 in /home/user/code/jupyterenvironment/lib/python3.9/site-packages (from tensorflow) (1.41.1)\n",
      "Requirement already satisfied: flatbuffers<3.0,>=1.12 in /home/user/code/jupyterenvironment/lib/python3.9/site-packages (from tensorflow) (2.0)\n",
      "Requirement already satisfied: h5py>=2.9.0 in /home/user/code/jupyterenvironment/lib/python3.9/site-packages (from tensorflow) (3.5.0)\n",
      "Requirement already satisfied: typing-extensions>=3.6.6 in /home/user/code/jupyterenvironment/lib/python3.9/site-packages (from tensorflow) (3.10.0.2)\n",
      "Requirement already satisfied: tensorflow-estimator<2.8,~=2.7.0rc0 in /home/user/code/jupyterenvironment/lib/python3.9/site-packages (from tensorflow) (2.7.0)\n",
      "Requirement already satisfied: keras-preprocessing>=1.1.1 in /home/user/code/jupyterenvironment/lib/python3.9/site-packages (from tensorflow) (1.1.2)\n",
      "Requirement already satisfied: wrapt>=1.11.0 in /home/user/code/jupyterenvironment/lib/python3.9/site-packages (from tensorflow) (1.13.3)\n",
      "Requirement already satisfied: gast<0.5.0,>=0.2.1 in /home/user/code/jupyterenvironment/lib/python3.9/site-packages (from tensorflow) (0.4.0)\n",
      "Requirement already satisfied: wheel<1.0,>=0.32.0 in /home/user/code/jupyterenvironment/lib/python3.9/site-packages (from tensorflow) (0.37.0)\n",
      "Requirement already satisfied: protobuf>=3.9.2 in /home/user/code/jupyterenvironment/lib/python3.9/site-packages (from tensorflow) (3.19.1)\n",
      "Requirement already satisfied: tqdm in /home/user/code/jupyterenvironment/lib/python3.9/site-packages (from nltk) (4.62.3)\n",
      "Requirement already satisfied: regex>=2021.8.3 in /home/user/code/jupyterenvironment/lib/python3.9/site-packages (from nltk) (2021.11.10)\n",
      "Requirement already satisfied: joblib in /home/user/code/jupyterenvironment/lib/python3.9/site-packages (from nltk) (1.1.0)\n",
      "Requirement already satisfied: click in /home/user/code/jupyterenvironment/lib/python3.9/site-packages (from nltk) (8.0.3)\n",
      "Requirement already satisfied: stanza<1.4.0,>=1.2.0 in /home/user/code/jupyterenvironment/lib/python3.9/site-packages (from spacy-stanza) (1.3.0)\n",
      "Requirement already satisfied: spacy<4.0.0,>=3.0.0 in /home/user/code/jupyterenvironment/lib/python3.9/site-packages (from spacy-stanza) (3.2.1)\n",
      "Requirement already satisfied: wasabi<1.1.0,>=0.8.1 in /home/user/code/jupyterenvironment/lib/python3.9/site-packages (from spacy<4.0.0,>=3.0.0->spacy-stanza) (0.9.0)\n",
      "Requirement already satisfied: jinja2 in /home/user/code/jupyterenvironment/lib/python3.9/site-packages (from spacy<4.0.0,>=3.0.0->spacy-stanza) (3.0.2)\n",
      "Requirement already satisfied: typer<0.5.0,>=0.3.0 in /home/user/code/jupyterenvironment/lib/python3.9/site-packages (from spacy<4.0.0,>=3.0.0->spacy-stanza) (0.4.0)\n",
      "Requirement already satisfied: pathy>=0.3.5 in /home/user/code/jupyterenvironment/lib/python3.9/site-packages (from spacy<4.0.0,>=3.0.0->spacy-stanza) (0.6.1)\n",
      "Requirement already satisfied: catalogue<2.1.0,>=2.0.6 in /home/user/code/jupyterenvironment/lib/python3.9/site-packages (from spacy<4.0.0,>=3.0.0->spacy-stanza) (2.0.6)\n",
      "Requirement already satisfied: cymem<2.1.0,>=2.0.2 in /home/user/code/jupyterenvironment/lib/python3.9/site-packages (from spacy<4.0.0,>=3.0.0->spacy-stanza) (2.0.6)\n",
      "Requirement already satisfied: blis<0.8.0,>=0.4.0 in /home/user/code/jupyterenvironment/lib/python3.9/site-packages (from spacy<4.0.0,>=3.0.0->spacy-stanza) (0.7.5)\n",
      "Requirement already satisfied: spacy-legacy<3.1.0,>=3.0.8 in /home/user/code/jupyterenvironment/lib/python3.9/site-packages (from spacy<4.0.0,>=3.0.0->spacy-stanza) (3.0.8)\n",
      "Requirement already satisfied: srsly<3.0.0,>=2.4.1 in /home/user/code/jupyterenvironment/lib/python3.9/site-packages (from spacy<4.0.0,>=3.0.0->spacy-stanza) (2.4.2)\n",
      "Requirement already satisfied: setuptools in /home/user/code/jupyterenvironment/lib/python3.9/site-packages (from spacy<4.0.0,>=3.0.0->spacy-stanza) (58.3.0)\n",
      "Requirement already satisfied: packaging>=20.0 in /home/user/code/jupyterenvironment/lib/python3.9/site-packages (from spacy<4.0.0,>=3.0.0->spacy-stanza) (21.2)\n",
      "Requirement already satisfied: thinc<8.1.0,>=8.0.12 in /home/user/code/jupyterenvironment/lib/python3.9/site-packages (from spacy<4.0.0,>=3.0.0->spacy-stanza) (8.0.13)\n",
      "Requirement already satisfied: preshed<3.1.0,>=3.0.2 in /home/user/code/jupyterenvironment/lib/python3.9/site-packages (from spacy<4.0.0,>=3.0.0->spacy-stanza) (3.0.6)\n",
      "Requirement already satisfied: spacy-loggers<2.0.0,>=1.0.0 in /home/user/code/jupyterenvironment/lib/python3.9/site-packages (from spacy<4.0.0,>=3.0.0->spacy-stanza) (1.0.1)\n",
      "Requirement already satisfied: requests<3.0.0,>=2.13.0 in /home/user/code/jupyterenvironment/lib/python3.9/site-packages (from spacy<4.0.0,>=3.0.0->spacy-stanza) (2.26.0)\n",
      "Requirement already satisfied: murmurhash<1.1.0,>=0.28.0 in /home/user/code/jupyterenvironment/lib/python3.9/site-packages (from spacy<4.0.0,>=3.0.0->spacy-stanza) (1.0.6)\n",
      "Requirement already satisfied: pydantic!=1.8,!=1.8.1,<1.9.0,>=1.7.4 in /home/user/code/jupyterenvironment/lib/python3.9/site-packages (from spacy<4.0.0,>=3.0.0->spacy-stanza) (1.8.2)\n",
      "Requirement already satisfied: langcodes<4.0.0,>=3.2.0 in /home/user/code/jupyterenvironment/lib/python3.9/site-packages (from spacy<4.0.0,>=3.0.0->spacy-stanza) (3.3.0)\n",
      "Requirement already satisfied: emoji in /home/user/code/jupyterenvironment/lib/python3.9/site-packages (from stanza<1.4.0,>=1.2.0->spacy-stanza) (1.6.1)\n",
      "Requirement already satisfied: torch>=1.3.0 in /home/user/code/jupyterenvironment/lib/python3.9/site-packages (from stanza<1.4.0,>=1.2.0->spacy-stanza) (1.10.0)\n",
      "Requirement already satisfied: google-auth-oauthlib<0.5,>=0.4.1 in /home/user/code/jupyterenvironment/lib/python3.9/site-packages (from tensorboard~=2.6->tensorflow) (0.4.6)\n",
      "Requirement already satisfied: werkzeug>=0.11.15 in /home/user/code/jupyterenvironment/lib/python3.9/site-packages (from tensorboard~=2.6->tensorflow) (2.0.2)\n",
      "Requirement already satisfied: google-auth<3,>=1.6.3 in /home/user/code/jupyterenvironment/lib/python3.9/site-packages (from tensorboard~=2.6->tensorflow) (2.3.3)\n",
      "Requirement already satisfied: tensorboard-data-server<0.7.0,>=0.6.0 in /home/user/code/jupyterenvironment/lib/python3.9/site-packages (from tensorboard~=2.6->tensorflow) (0.6.1)\n",
      "Requirement already satisfied: tensorboard-plugin-wit>=1.6.0 in /home/user/code/jupyterenvironment/lib/python3.9/site-packages (from tensorboard~=2.6->tensorflow) (1.8.0)\n",
      "Requirement already satisfied: markdown>=2.6.8 in /home/user/code/jupyterenvironment/lib/python3.9/site-packages (from tensorboard~=2.6->tensorflow) (3.3.4)\n"
     ]
    },
    {
     "name": "stdout",
     "output_type": "stream",
     "text": [
      "Requirement already satisfied: cachetools<5.0,>=2.0.0 in /home/user/code/jupyterenvironment/lib/python3.9/site-packages (from google-auth<3,>=1.6.3->tensorboard~=2.6->tensorflow) (4.2.4)\n",
      "Requirement already satisfied: rsa<5,>=3.1.4 in /home/user/code/jupyterenvironment/lib/python3.9/site-packages (from google-auth<3,>=1.6.3->tensorboard~=2.6->tensorflow) (4.7.2)\n",
      "Requirement already satisfied: pyasn1-modules>=0.2.1 in /home/user/code/jupyterenvironment/lib/python3.9/site-packages (from google-auth<3,>=1.6.3->tensorboard~=2.6->tensorflow) (0.2.8)\n",
      "Requirement already satisfied: requests-oauthlib>=0.7.0 in /home/user/code/jupyterenvironment/lib/python3.9/site-packages (from google-auth-oauthlib<0.5,>=0.4.1->tensorboard~=2.6->tensorflow) (1.3.0)\n",
      "Requirement already satisfied: pyparsing<3,>=2.0.2 in /home/user/code/jupyterenvironment/lib/python3.9/site-packages (from packaging>=20.0->spacy<4.0.0,>=3.0.0->spacy-stanza) (2.4.7)\n",
      "Requirement already satisfied: smart-open<6.0.0,>=5.0.0 in /home/user/code/jupyterenvironment/lib/python3.9/site-packages (from pathy>=0.3.5->spacy<4.0.0,>=3.0.0->spacy-stanza) (5.2.1)\n",
      "Requirement already satisfied: charset-normalizer~=2.0.0 in /home/user/code/jupyterenvironment/lib/python3.9/site-packages (from requests<3.0.0,>=2.13.0->spacy<4.0.0,>=3.0.0->spacy-stanza) (2.0.7)\n",
      "Requirement already satisfied: urllib3<1.27,>=1.21.1 in /home/user/code/jupyterenvironment/lib/python3.9/site-packages (from requests<3.0.0,>=2.13.0->spacy<4.0.0,>=3.0.0->spacy-stanza) (1.26.7)\n",
      "Requirement already satisfied: certifi>=2017.4.17 in /home/user/code/jupyterenvironment/lib/python3.9/site-packages (from requests<3.0.0,>=2.13.0->spacy<4.0.0,>=3.0.0->spacy-stanza) (2021.10.8)\n",
      "Requirement already satisfied: idna<4,>=2.5 in /home/user/code/jupyterenvironment/lib/python3.9/site-packages (from requests<3.0.0,>=2.13.0->spacy<4.0.0,>=3.0.0->spacy-stanza) (3.3)\n",
      "Requirement already satisfied: MarkupSafe>=2.0 in /home/user/code/jupyterenvironment/lib/python3.9/site-packages (from jinja2->spacy<4.0.0,>=3.0.0->spacy-stanza) (2.0.1)\n",
      "Requirement already satisfied: pyasn1<0.5.0,>=0.4.6 in /home/user/code/jupyterenvironment/lib/python3.9/site-packages (from pyasn1-modules>=0.2.1->google-auth<3,>=1.6.3->tensorboard~=2.6->tensorflow) (0.4.8)\n",
      "Requirement already satisfied: oauthlib>=3.0.0 in /home/user/code/jupyterenvironment/lib/python3.9/site-packages (from requests-oauthlib>=0.7.0->google-auth-oauthlib<0.5,>=0.4.1->tensorboard~=2.6->tensorflow) (3.1.1)\n"
     ]
    }
   ],
   "source": [
    "!pip install tensorflow keras nltk spacy-stanza"
   ]
  },
  {
   "cell_type": "code",
   "execution_count": 2,
   "id": "29272a94",
   "metadata": {},
   "outputs": [
    {
     "name": "stderr",
     "output_type": "stream",
     "text": [
      "2021-12-17 16:11:45.516819: W tensorflow/stream_executor/platform/default/dso_loader.cc:64] Could not load dynamic library 'libcudart.so.11.0'; dlerror: libcudart.so.11.0: cannot open shared object file: No such file or directory\n",
      "2021-12-17 16:11:45.516854: I tensorflow/stream_executor/cuda/cudart_stub.cc:29] Ignore above cudart dlerror if you do not have a GPU set up on your machine.\n",
      "[nltk_data] Downloading package stopwords to /home/user/nltk_data...\n",
      "[nltk_data]   Package stopwords is already up-to-date!\n"
     ]
    },
    {
     "data": {
      "application/vnd.jupyter.widget-view+json": {
       "model_id": "bef1a3d898e840ccb55ad672b60dae25",
       "version_major": 2,
       "version_minor": 0
      },
      "text/plain": [
       "Downloading https://raw.githubusercontent.com/stanfordnlp/stanza-resources/main/resources_1.3.0.json:   0%|   …"
      ]
     },
     "metadata": {},
     "output_type": "display_data"
    },
    {
     "name": "stderr",
     "output_type": "stream",
     "text": [
      "2021-12-17 16:11:49 INFO: Downloading default packages for language: es (Spanish)...\n",
      "2021-12-17 16:11:50 INFO: File exists: /home/user/stanza_resources/es/default.zip.\n",
      "2021-12-17 16:11:56 INFO: Finished downloading models and saved to /home/user/stanza_resources.\n",
      "2021-12-17 16:11:56 INFO: Loading these models for language: es (Spanish):\n",
      "=======================\n",
      "| Processor | Package |\n",
      "-----------------------\n",
      "| tokenize  | ancora  |\n",
      "| mwt       | ancora  |\n",
      "| pos       | ancora  |\n",
      "| lemma     | ancora  |\n",
      "| depparse  | ancora  |\n",
      "| ner       | conll02 |\n",
      "=======================\n",
      "\n",
      "2021-12-17 16:11:56 INFO: Use device: cpu\n",
      "2021-12-17 16:11:56 INFO: Loading: tokenize\n",
      "2021-12-17 16:11:56 INFO: Loading: mwt\n",
      "2021-12-17 16:11:56 INFO: Loading: pos\n",
      "2021-12-17 16:11:56 INFO: Loading: lemma\n",
      "2021-12-17 16:11:56 INFO: Loading: depparse\n",
      "2021-12-17 16:11:57 INFO: Loading: ner\n",
      "2021-12-17 16:11:58 INFO: Done loading processors!\n"
     ]
    }
   ],
   "source": [
    "import tensorflow as tf\n",
    "import json\n",
    "import pickle\n",
    "import numpy as np\n",
    "from keras.models import Sequential\n",
    "from keras.layers import Dense, Activation, Dropout\n",
    "from tensorflow.keras.optimizers import SGD\n",
    "import random\n",
    "from keras.layers.normalization.batch_normalization import BatchNormalization\n",
    "\n",
    "\n",
    "from utils import *"
   ]
  },
  {
   "cell_type": "code",
   "execution_count": 3,
   "id": "b0283d50",
   "metadata": {},
   "outputs": [],
   "source": [
    "words=[]\n",
    "classes = []\n",
    "documents = []\n",
    "data_file = open('intents.json').read()\n",
    "intents = json.loads(data_file)"
   ]
  },
  {
   "cell_type": "code",
   "execution_count": 4,
   "id": "2532f5a4",
   "metadata": {},
   "outputs": [],
   "source": [
    "#tokenizing\n",
    "for intent in intents['intents']:\n",
    "    for pattern in intent['patterns']:\n",
    "        #tokenizing\n",
    "        w= tokenize(pattern)\n",
    "        words.extend(w)\n",
    "        #add documents in the corpus\n",
    "        documents.append((w, intent['tag']))\n",
    "\n",
    "        # add to our classes list\n",
    "        if intent['tag'] not in classes:\n",
    "            classes.append(intent['tag'])"
   ]
  },
  {
   "cell_type": "code",
   "execution_count": 5,
   "id": "44ca86f4",
   "metadata": {},
   "outputs": [
    {
     "data": {
      "text/plain": [
       "['saludo', 'despedida', 'opciones', 'alimentos_sanos', 'alimentos_no_sanos']"
      ]
     },
     "execution_count": 5,
     "metadata": {},
     "output_type": "execute_result"
    }
   ],
   "source": [
    "classes"
   ]
  },
  {
   "cell_type": "code",
   "execution_count": 6,
   "id": "1033eaf8",
   "metadata": {},
   "outputs": [
    {
     "name": "stderr",
     "output_type": "stream",
     "text": [
      "/home/user/code/jupyterenvironment/lib/python3.9/site-packages/stanza/models/common/beam.py:86: UserWarning: __floordiv__ is deprecated, and its behavior will change in a future version of pytorch. It currently rounds toward 0 (like the 'trunc' function NOT 'floor'). This results in incorrect rounding for negative values. To keep the current behavior, use torch.div(a, b, rounding_mode='trunc'), or for actual floor division, use torch.div(a, b, rounding_mode='floor').\n",
      "  prevK = bestScoresId // numWords\n"
     ]
    }
   ],
   "source": [
    "fulltext = ' '.join(words)\n",
    "# lemmatize, lower each word and remove duplicates\n",
    "lemmas = lemmatize_without_stop(fulltext)\n",
    "lemmas = sorted(list(set(lemmas)))\n",
    "# sort classes\n",
    "classes = sorted(list(set(classes)))\n",
    "\n",
    "#removing accent and signs\n",
    "lemmas = remove_accent_punct(lemmas)\n"
   ]
  },
  {
   "cell_type": "code",
   "execution_count": 7,
   "id": "a0a22eea",
   "metadata": {},
   "outputs": [
    {
     "name": "stdout",
     "output_type": "stream",
     "text": [
      "26 documents\n",
      "5 classes ['alimentos_no_sanos', 'alimentos_sanos', 'despedida', 'opciones', 'saludo']\n",
      "28 unique lemmatized words ['adios', 'ayudar', 'buen', 'carbohidrato', 'chao', 'chatarra', 'conocer', 'como', 'dulce', 'dia', 'fruta', 'frutoseco', 'gusto', 'hacer', 'hey', 'holar', 'lacteo', 'luego', 'noche', 'poder', 'procesado', 'proteina', 'servir', 'snacks', 'tal', 'tarde', 'vegetal', 'ver']\n"
     ]
    }
   ],
   "source": [
    "# documents = combination between patterns and intents\n",
    "print (len(documents), \"documents\")\n",
    "# classes = intents\n",
    "print (len(classes), \"classes\", classes)\n",
    "# words = all words, vocabulary\n",
    "print (len(lemmas), \"unique lemmatized words\", lemmas)"
   ]
  },
  {
   "cell_type": "code",
   "execution_count": 8,
   "id": "09c88ef1",
   "metadata": {},
   "outputs": [],
   "source": [
    "pickle.dump(lemmas,open('words.pkl','wb'))\n",
    "pickle.dump(classes,open('classes.pkl','wb'))"
   ]
  },
  {
   "cell_type": "markdown",
   "id": "b7a4d485",
   "metadata": {},
   "source": [
    "## Exploring"
   ]
  },
  {
   "cell_type": "code",
   "execution_count": 9,
   "id": "38cd7b66",
   "metadata": {},
   "outputs": [
    {
     "data": {
      "text/plain": [
       "28"
      ]
     },
     "execution_count": 9,
     "metadata": {},
     "output_type": "execute_result"
    }
   ],
   "source": [
    "len(lemmas)"
   ]
  },
  {
   "cell_type": "code",
   "execution_count": 10,
   "id": "59abf501",
   "metadata": {},
   "outputs": [
    {
     "data": {
      "text/plain": [
       "(['frutoseco'], 'alimentos_sanos')"
      ]
     },
     "execution_count": 10,
     "metadata": {},
     "output_type": "execute_result"
    }
   ],
   "source": [
    "documents[21]"
   ]
  },
  {
   "cell_type": "markdown",
   "id": "4e210d98",
   "metadata": {},
   "source": [
    "# TRAINING"
   ]
  },
  {
   "cell_type": "code",
   "execution_count": 11,
   "id": "11a1e19a",
   "metadata": {},
   "outputs": [
    {
     "name": "stdout",
     "output_type": "stream",
     "text": [
      "Training data created\n"
     ]
    },
    {
     "name": "stderr",
     "output_type": "stream",
     "text": [
      "/tmp/ipykernel_245689/2241131879.py:26: VisibleDeprecationWarning: Creating an ndarray from ragged nested sequences (which is a list-or-tuple of lists-or-tuples-or ndarrays with different lengths or shapes) is deprecated. If you meant to do this, you must specify 'dtype=object' when creating the ndarray.\n",
      "  training = np.array(training)\n"
     ]
    }
   ],
   "source": [
    "# create our training data\n",
    "training = []\n",
    "# create an empty array for our output\n",
    "output_empty = [0] * len(classes)\n",
    "# training set, bag of words for each sentence\n",
    "for doc in documents:\n",
    "    # initialize our bag of words\n",
    "    bag = []\n",
    "    # list of tokenized words for the pattern\n",
    "    pattern_words = doc[0]\n",
    "    # lemmatize each word - create base word, in attempt to represent related words\n",
    "    pattern_words = lemmatize_with_stop(' '.join(pattern_words))\n",
    "    if (pattern_words == 'frutonecer'):\n",
    "        pattern_words == 'frutoseco'\n",
    "    pattern_words  = remove_accent_punct(pattern_words)\n",
    "    \n",
    "    # create our bag of words array with 1, if word match found in current pattern\n",
    "    for w in lemmas:\n",
    "        bag.append(1) if w in pattern_words else bag.append(0)\n",
    "    # output is a '0' for each tag and '1' for current tag (for each pattern)\n",
    "    output_row = list(output_empty)\n",
    "    output_row[classes.index(doc[1])] = 1\n",
    "    training.append([bag, output_row])\n",
    "# shuffle our features and turn into np.array\n",
    "random.shuffle(training)\n",
    "training = np.array(training)\n",
    "\n",
    "print(\"Training data created\")"
   ]
  },
  {
   "cell_type": "code",
   "execution_count": 12,
   "id": "2cd50938",
   "metadata": {},
   "outputs": [
    {
     "data": {
      "text/plain": [
       "array([[list([0, 0, 0, 0, 0, 0, 0, 0, 0, 0, 0, 0, 0, 0, 1, 0, 0, 0, 0, 0, 0, 0, 0, 0, 0, 0, 0, 0]),\n",
       "        list([0, 0, 0, 0, 1])]], dtype=object)"
      ]
     },
     "execution_count": 12,
     "metadata": {},
     "output_type": "execute_result"
    }
   ],
   "source": [
    "training[4:5,:]"
   ]
  },
  {
   "cell_type": "code",
   "execution_count": 13,
   "id": "a03cc684",
   "metadata": {},
   "outputs": [],
   "source": [
    "# create train and test lists. X - patterns, Y - intents\n",
    "datafortrain = int(len(training)*0.9)\n",
    "\n",
    "train_x = list(training[:datafortrain,0])\n",
    "train_y = list(training[:datafortrain,1])\n",
    "\n",
    "val_x = list(training[datafortrain:,0])\n",
    "val_y = list(training[datafortrain:,1])"
   ]
  },
  {
   "cell_type": "code",
   "execution_count": 14,
   "id": "68eb96b3",
   "metadata": {},
   "outputs": [],
   "source": [
    "path_checkpoint = \"model_checkpoint.h5\"\n",
    "my_callbacks = [\n",
    "    tf.keras.callbacks.EarlyStopping(monitor='loss',min_delta=0.000000000001,patience=30),\n",
    "    tf.keras.callbacks.ModelCheckpoint(monitor=\"val_loss\",\n",
    "    filepath=path_checkpoint,\n",
    "    verbose=1,\n",
    "    save_weights_only=False,\n",
    "    save_best_only=True,),\n",
    "    tf.keras.callbacks.TensorBoard(log_dir='./logs'),\n",
    "]"
   ]
  },
  {
   "cell_type": "code",
   "execution_count": 17,
   "id": "6769e52e",
   "metadata": {},
   "outputs": [
    {
     "name": "stderr",
     "output_type": "stream",
     "text": [
      "/home/user/code/jupyterenvironment/lib/python3.9/site-packages/keras/optimizer_v2/gradient_descent.py:102: UserWarning: The `lr` argument is deprecated, use `learning_rate` instead.\n",
      "  super(SGD, self).__init__(name, **kwargs)\n"
     ]
    },
    {
     "name": "stdout",
     "output_type": "stream",
     "text": [
      "Epoch 1/10000\n",
      "1/6 [====>.........................] - ETA: 4s - loss: 2.4881 - accuracy: 0.5000\n",
      "Epoch 00001: val_loss did not improve from 1.57200\n",
      "6/6 [==============================] - 1s 43ms/step - loss: 2.1126 - accuracy: 0.2609 - val_loss: 1.5848 - val_accuracy: 0.3333\n",
      "Epoch 2/10000\n",
      "1/6 [====>.........................] - ETA: 0s - loss: 3.0736 - accuracy: 0.0000e+00\n",
      "Epoch 00002: val_loss did not improve from 1.57200\n",
      "6/6 [==============================] - 0s 14ms/step - loss: 2.4524 - accuracy: 0.0870 - val_loss: 1.5741 - val_accuracy: 0.3333\n",
      "Epoch 3/10000\n",
      "1/6 [====>.........................] - ETA: 0s - loss: 3.1356 - accuracy: 0.2500\n",
      "Epoch 00003: val_loss improved from 1.57200 to 1.56837, saving model to model_checkpoint.h5\n",
      "6/6 [==============================] - 0s 19ms/step - loss: 2.8991 - accuracy: 0.1739 - val_loss: 1.5684 - val_accuracy: 0.3333\n",
      "Epoch 4/10000\n",
      "1/6 [====>.........................] - ETA: 0s - loss: 4.1269 - accuracy: 0.0000e+00\n",
      "Epoch 00004: val_loss improved from 1.56837 to 1.55872, saving model to model_checkpoint.h5\n",
      "6/6 [==============================] - 0s 19ms/step - loss: 3.5725 - accuracy: 0.0870 - val_loss: 1.5587 - val_accuracy: 0.3333\n",
      "Epoch 5/10000\n",
      "1/6 [====>.........................] - ETA: 0s - loss: 0.9021 - accuracy: 0.7500\n",
      "Epoch 00005: val_loss improved from 1.55872 to 1.55426, saving model to model_checkpoint.h5\n",
      "6/6 [==============================] - 0s 20ms/step - loss: 2.2762 - accuracy: 0.3043 - val_loss: 1.5543 - val_accuracy: 0.3333\n",
      "Epoch 6/10000\n",
      "1/6 [====>.........................] - ETA: 0s - loss: 2.4645 - accuracy: 0.2500\n",
      "Epoch 00006: val_loss improved from 1.55426 to 1.55408, saving model to model_checkpoint.h5\n",
      "6/6 [==============================] - 0s 20ms/step - loss: 3.0056 - accuracy: 0.1739 - val_loss: 1.5541 - val_accuracy: 0.3333\n",
      "Epoch 7/10000\n",
      "1/6 [====>.........................] - ETA: 0s - loss: 2.4176 - accuracy: 0.2500\n",
      "Epoch 00007: val_loss improved from 1.55408 to 1.54681, saving model to model_checkpoint.h5\n",
      "6/6 [==============================] - 0s 19ms/step - loss: 2.2420 - accuracy: 0.2609 - val_loss: 1.5468 - val_accuracy: 0.3333\n",
      "Epoch 8/10000\n",
      "1/6 [====>.........................] - ETA: 0s - loss: 3.5421 - accuracy: 0.0000e+00\n",
      "Epoch 00008: val_loss improved from 1.54681 to 1.54401, saving model to model_checkpoint.h5\n",
      "6/6 [==============================] - 0s 19ms/step - loss: 3.3769 - accuracy: 0.0870 - val_loss: 1.5440 - val_accuracy: 0.3333\n",
      "Epoch 9/10000\n",
      "1/6 [====>.........................] - ETA: 0s - loss: 2.6330 - accuracy: 0.2500\n",
      "Epoch 00009: val_loss improved from 1.54401 to 1.53952, saving model to model_checkpoint.h5\n",
      "6/6 [==============================] - 0s 18ms/step - loss: 2.7381 - accuracy: 0.1304 - val_loss: 1.5395 - val_accuracy: 0.3333\n",
      "Epoch 10/10000\n",
      "1/6 [====>.........................] - ETA: 0s - loss: 0.9337 - accuracy: 0.5000\n",
      "Epoch 00010: val_loss improved from 1.53952 to 1.53805, saving model to model_checkpoint.h5\n",
      "6/6 [==============================] - 0s 21ms/step - loss: 1.6803 - accuracy: 0.3913 - val_loss: 1.5380 - val_accuracy: 0.3333\n",
      "Epoch 11/10000\n",
      "1/6 [====>.........................] - ETA: 0s - loss: 3.1493 - accuracy: 0.0000e+00\n",
      "Epoch 00011: val_loss improved from 1.53805 to 1.53641, saving model to model_checkpoint.h5\n",
      "6/6 [==============================] - 0s 21ms/step - loss: 2.8279 - accuracy: 0.1739 - val_loss: 1.5364 - val_accuracy: 0.3333\n",
      "Epoch 12/10000\n",
      "1/6 [====>.........................] - ETA: 0s - loss: 2.6850 - accuracy: 0.2500\n",
      "Epoch 00012: val_loss did not improve from 1.53641\n",
      "6/6 [==============================] - 0s 13ms/step - loss: 2.6256 - accuracy: 0.3043 - val_loss: 1.5385 - val_accuracy: 0.3333\n",
      "Epoch 13/10000\n",
      "1/6 [====>.........................] - ETA: 0s - loss: 1.8201 - accuracy: 0.5000\n",
      "Epoch 00013: val_loss improved from 1.53641 to 1.53116, saving model to model_checkpoint.h5\n",
      "6/6 [==============================] - 0s 19ms/step - loss: 2.2902 - accuracy: 0.2174 - val_loss: 1.5312 - val_accuracy: 0.3333\n",
      "Epoch 14/10000\n",
      "1/6 [====>.........................] - ETA: 0s - loss: 1.9840 - accuracy: 0.0000e+00\n",
      "Epoch 00014: val_loss improved from 1.53116 to 1.52440, saving model to model_checkpoint.h5\n",
      "6/6 [==============================] - 0s 22ms/step - loss: 2.0857 - accuracy: 0.1304 - val_loss: 1.5244 - val_accuracy: 0.3333\n",
      "Epoch 15/10000\n",
      "1/6 [====>.........................] - ETA: 0s - loss: 3.8101 - accuracy: 0.0000e+00\n",
      "Epoch 00015: val_loss improved from 1.52440 to 1.51155, saving model to model_checkpoint.h5\n",
      "6/6 [==============================] - 0s 21ms/step - loss: 3.2111 - accuracy: 0.1739 - val_loss: 1.5116 - val_accuracy: 0.3333\n",
      "Epoch 16/10000\n",
      "1/6 [====>.........................] - ETA: 0s - loss: 2.0608 - accuracy: 0.2500\n",
      "Epoch 00016: val_loss improved from 1.51155 to 1.50428, saving model to model_checkpoint.h5\n",
      "6/6 [==============================] - 0s 20ms/step - loss: 2.5288 - accuracy: 0.2609 - val_loss: 1.5043 - val_accuracy: 0.3333\n",
      "Epoch 17/10000\n",
      "1/6 [====>.........................] - ETA: 0s - loss: 1.8417 - accuracy: 0.5000\n",
      "Epoch 00017: val_loss improved from 1.50428 to 1.49548, saving model to model_checkpoint.h5\n",
      "6/6 [==============================] - 0s 20ms/step - loss: 2.2355 - accuracy: 0.3913 - val_loss: 1.4955 - val_accuracy: 0.3333\n",
      "Epoch 18/10000\n",
      "1/6 [====>.........................] - ETA: 0s - loss: 2.0540 - accuracy: 0.2500\n",
      "Epoch 00018: val_loss did not improve from 1.49548\n",
      "6/6 [==============================] - 0s 14ms/step - loss: 2.2953 - accuracy: 0.2174 - val_loss: 1.5053 - val_accuracy: 0.3333\n",
      "Epoch 19/10000\n",
      "1/6 [====>.........................] - ETA: 0s - loss: 2.8493 - accuracy: 0.0000e+00\n",
      "Epoch 00019: val_loss did not improve from 1.49548\n",
      "6/6 [==============================] - 0s 14ms/step - loss: 2.9877 - accuracy: 0.0870 - val_loss: 1.4966 - val_accuracy: 0.3333\n",
      "Epoch 20/10000\n",
      "1/6 [====>.........................] - ETA: 0s - loss: 2.2848 - accuracy: 0.0000e+00\n",
      "Epoch 00020: val_loss improved from 1.49548 to 1.49397, saving model to model_checkpoint.h5\n",
      "6/6 [==============================] - 0s 16ms/step - loss: 2.2798 - accuracy: 0.2174 - val_loss: 1.4940 - val_accuracy: 0.6667\n",
      "Epoch 21/10000\n",
      "1/6 [====>.........................] - ETA: 0s - loss: 2.6010 - accuracy: 0.0000e+00\n",
      "Epoch 00021: val_loss did not improve from 1.49397\n",
      "6/6 [==============================] - 0s 14ms/step - loss: 2.6896 - accuracy: 0.1304 - val_loss: 1.4945 - val_accuracy: 0.6667\n",
      "Epoch 22/10000\n",
      "1/6 [====>.........................] - ETA: 0s - loss: 4.2458 - accuracy: 0.0000e+00\n",
      "Epoch 00022: val_loss did not improve from 1.49397\n",
      "6/6 [==============================] - 0s 13ms/step - loss: 2.1509 - accuracy: 0.3478 - val_loss: 1.4971 - val_accuracy: 0.6667\n",
      "Epoch 23/10000\n",
      "1/6 [====>.........................] - ETA: 0s - loss: 2.6356 - accuracy: 0.2500\n",
      "Epoch 00023: val_loss did not improve from 1.49397\n",
      "6/6 [==============================] - 0s 13ms/step - loss: 2.4607 - accuracy: 0.3043 - val_loss: 1.4979 - val_accuracy: 0.6667\n",
      "Epoch 24/10000\n",
      "1/6 [====>.........................] - ETA: 0s - loss: 2.8149 - accuracy: 0.5000\n",
      "Epoch 00024: val_loss did not improve from 1.49397\n",
      "6/6 [==============================] - 0s 11ms/step - loss: 1.9102 - accuracy: 0.4348 - val_loss: 1.5011 - val_accuracy: 0.6667\n",
      "Epoch 25/10000\n",
      "1/6 [====>.........................] - ETA: 0s - loss: 2.0137 - accuracy: 0.5000\n",
      "Epoch 00025: val_loss did not improve from 1.49397\n",
      "6/6 [==============================] - 0s 14ms/step - loss: 1.8163 - accuracy: 0.3043 - val_loss: 1.5055 - val_accuracy: 0.3333\n",
      "Epoch 26/10000\n",
      "1/6 [====>.........................] - ETA: 0s - loss: 3.5877 - accuracy: 0.0000e+00\n",
      "Epoch 00026: val_loss did not improve from 1.49397\n",
      "6/6 [==============================] - 0s 14ms/step - loss: 2.0872 - accuracy: 0.3478 - val_loss: 1.5012 - val_accuracy: 0.3333\n",
      "Epoch 27/10000\n",
      "1/6 [====>.........................] - ETA: 0s - loss: 2.2561 - accuracy: 0.5000\n",
      "Epoch 00027: val_loss did not improve from 1.49397\n",
      "6/6 [==============================] - 0s 12ms/step - loss: 2.5985 - accuracy: 0.2609 - val_loss: 1.4957 - val_accuracy: 0.3333\n",
      "Epoch 28/10000\n",
      "1/6 [====>.........................] - ETA: 0s - loss: 1.4254 - accuracy: 0.5000\n",
      "Epoch 00028: val_loss did not improve from 1.49397\n",
      "6/6 [==============================] - 0s 13ms/step - loss: 1.1835 - accuracy: 0.6087 - val_loss: 1.4943 - val_accuracy: 0.3333\n"
     ]
    },
    {
     "name": "stdout",
     "output_type": "stream",
     "text": [
      "Epoch 29/10000\n",
      "1/6 [====>.........................] - ETA: 0s - loss: 1.5311 - accuracy: 0.2500\n",
      "Epoch 00029: val_loss improved from 1.49397 to 1.48102, saving model to model_checkpoint.h5\n",
      "6/6 [==============================] - 0s 18ms/step - loss: 2.2759 - accuracy: 0.2609 - val_loss: 1.4810 - val_accuracy: 0.3333\n",
      "Epoch 30/10000\n",
      "1/6 [====>.........................] - ETA: 0s - loss: 3.0902 - accuracy: 0.2500\n",
      "Epoch 00030: val_loss did not improve from 1.48102\n",
      "6/6 [==============================] - 0s 11ms/step - loss: 1.8425 - accuracy: 0.3043 - val_loss: 1.4816 - val_accuracy: 0.3333\n",
      "Epoch 31/10000\n",
      "1/6 [====>.........................] - ETA: 0s - loss: 2.0450 - accuracy: 0.5000\n",
      "Epoch 00031: val_loss improved from 1.48102 to 1.47988, saving model to model_checkpoint.h5\n",
      "6/6 [==============================] - 0s 16ms/step - loss: 1.6402 - accuracy: 0.4783 - val_loss: 1.4799 - val_accuracy: 0.3333\n",
      "Epoch 32/10000\n",
      "1/6 [====>.........................] - ETA: 0s - loss: 1.7292 - accuracy: 0.5000\n",
      "Epoch 00032: val_loss improved from 1.47988 to 1.46733, saving model to model_checkpoint.h5\n",
      "6/6 [==============================] - 0s 17ms/step - loss: 1.9057 - accuracy: 0.4783 - val_loss: 1.4673 - val_accuracy: 0.3333\n",
      "Epoch 33/10000\n",
      "1/6 [====>.........................] - ETA: 0s - loss: 1.4405 - accuracy: 0.5000\n",
      "Epoch 00033: val_loss improved from 1.46733 to 1.45128, saving model to model_checkpoint.h5\n",
      "6/6 [==============================] - 0s 18ms/step - loss: 2.1767 - accuracy: 0.3043 - val_loss: 1.4513 - val_accuracy: 0.3333\n",
      "Epoch 34/10000\n",
      "1/6 [====>.........................] - ETA: 0s - loss: 1.9591 - accuracy: 0.2500\n",
      "Epoch 00034: val_loss improved from 1.45128 to 1.44446, saving model to model_checkpoint.h5\n",
      "6/6 [==============================] - 0s 17ms/step - loss: 1.8902 - accuracy: 0.1739 - val_loss: 1.4445 - val_accuracy: 0.6667\n",
      "Epoch 35/10000\n",
      "1/6 [====>.........................] - ETA: 0s - loss: 0.6775 - accuracy: 0.7500\n",
      "Epoch 00035: val_loss improved from 1.44446 to 1.43804, saving model to model_checkpoint.h5\n",
      "6/6 [==============================] - 0s 18ms/step - loss: 2.2661 - accuracy: 0.3478 - val_loss: 1.4380 - val_accuracy: 0.3333\n",
      "Epoch 36/10000\n",
      "1/6 [====>.........................] - ETA: 0s - loss: 3.2126 - accuracy: 0.0000e+00\n",
      "Epoch 00036: val_loss improved from 1.43804 to 1.43377, saving model to model_checkpoint.h5\n",
      "6/6 [==============================] - 0s 19ms/step - loss: 1.9719 - accuracy: 0.3478 - val_loss: 1.4338 - val_accuracy: 0.3333\n",
      "Epoch 37/10000\n",
      "1/6 [====>.........................] - ETA: 0s - loss: 0.9977 - accuracy: 0.5000\n",
      "Epoch 00037: val_loss did not improve from 1.43377\n",
      "6/6 [==============================] - 0s 11ms/step - loss: 1.6807 - accuracy: 0.4348 - val_loss: 1.4378 - val_accuracy: 0.6667\n",
      "Epoch 38/10000\n",
      "1/6 [====>.........................] - ETA: 0s - loss: 2.1396 - accuracy: 0.2500\n",
      "Epoch 00038: val_loss improved from 1.43377 to 1.43363, saving model to model_checkpoint.h5\n",
      "6/6 [==============================] - 0s 17ms/step - loss: 1.9108 - accuracy: 0.2609 - val_loss: 1.4336 - val_accuracy: 0.6667\n",
      "Epoch 39/10000\n",
      "1/6 [====>.........................] - ETA: 0s - loss: 2.3683 - accuracy: 0.2500\n",
      "Epoch 00039: val_loss improved from 1.43363 to 1.42536, saving model to model_checkpoint.h5\n",
      "6/6 [==============================] - 0s 17ms/step - loss: 1.3668 - accuracy: 0.5217 - val_loss: 1.4254 - val_accuracy: 0.6667\n",
      "Epoch 40/10000\n",
      "1/6 [====>.........................] - ETA: 0s - loss: 1.9639 - accuracy: 0.2500\n",
      "Epoch 00040: val_loss improved from 1.42536 to 1.41145, saving model to model_checkpoint.h5\n",
      "6/6 [==============================] - 0s 17ms/step - loss: 1.8120 - accuracy: 0.2609 - val_loss: 1.4115 - val_accuracy: 0.6667\n",
      "Epoch 41/10000\n",
      "1/6 [====>.........................] - ETA: 0s - loss: 2.9522 - accuracy: 0.0000e+00\n",
      "Epoch 00041: val_loss improved from 1.41145 to 1.39559, saving model to model_checkpoint.h5\n",
      "6/6 [==============================] - 0s 17ms/step - loss: 1.8918 - accuracy: 0.2609 - val_loss: 1.3956 - val_accuracy: 0.6667\n",
      "Epoch 42/10000\n",
      "1/6 [====>.........................] - ETA: 0s - loss: 1.1788 - accuracy: 0.5000\n",
      "Epoch 00042: val_loss did not improve from 1.39559\n",
      "6/6 [==============================] - 0s 12ms/step - loss: 1.7713 - accuracy: 0.3913 - val_loss: 1.4007 - val_accuracy: 0.6667\n",
      "Epoch 43/10000\n",
      "1/6 [====>.........................] - ETA: 0s - loss: 1.8096 - accuracy: 0.5000\n",
      "Epoch 00043: val_loss improved from 1.39559 to 1.38512, saving model to model_checkpoint.h5\n",
      "6/6 [==============================] - 0s 17ms/step - loss: 1.3837 - accuracy: 0.6957 - val_loss: 1.3851 - val_accuracy: 0.6667\n",
      "Epoch 44/10000\n",
      "1/6 [====>.........................] - ETA: 0s - loss: 2.3058 - accuracy: 0.2500\n",
      "Epoch 00044: val_loss improved from 1.38512 to 1.36887, saving model to model_checkpoint.h5\n",
      "6/6 [==============================] - 0s 16ms/step - loss: 2.2553 - accuracy: 0.2609 - val_loss: 1.3689 - val_accuracy: 0.6667\n",
      "Epoch 45/10000\n",
      "1/6 [====>.........................] - ETA: 0s - loss: 0.7866 - accuracy: 0.5000\n",
      "Epoch 00045: val_loss improved from 1.36887 to 1.36580, saving model to model_checkpoint.h5\n",
      "6/6 [==============================] - 0s 17ms/step - loss: 1.3139 - accuracy: 0.6087 - val_loss: 1.3658 - val_accuracy: 0.6667\n",
      "Epoch 46/10000\n",
      "1/6 [====>.........................] - ETA: 0s - loss: 1.7557 - accuracy: 0.5000\n",
      "Epoch 00046: val_loss improved from 1.36580 to 1.35889, saving model to model_checkpoint.h5\n",
      "6/6 [==============================] - 0s 18ms/step - loss: 1.4491 - accuracy: 0.4348 - val_loss: 1.3589 - val_accuracy: 0.6667\n",
      "Epoch 47/10000\n",
      "1/6 [====>.........................] - ETA: 0s - loss: 1.8215 - accuracy: 0.5000\n",
      "Epoch 00047: val_loss improved from 1.35889 to 1.33691, saving model to model_checkpoint.h5\n",
      "6/6 [==============================] - 0s 19ms/step - loss: 1.7782 - accuracy: 0.4348 - val_loss: 1.3369 - val_accuracy: 0.6667\n",
      "Epoch 48/10000\n",
      "1/6 [====>.........................] - ETA: 0s - loss: 1.7336 - accuracy: 0.5000\n",
      "Epoch 00048: val_loss improved from 1.33691 to 1.33442, saving model to model_checkpoint.h5\n",
      "6/6 [==============================] - 0s 18ms/step - loss: 1.6374 - accuracy: 0.4783 - val_loss: 1.3344 - val_accuracy: 0.6667\n",
      "Epoch 49/10000\n",
      "1/6 [====>.........................] - ETA: 0s - loss: 0.7783 - accuracy: 0.7500\n",
      "Epoch 00049: val_loss did not improve from 1.33442\n",
      "6/6 [==============================] - 0s 12ms/step - loss: 1.1808 - accuracy: 0.6087 - val_loss: 1.3360 - val_accuracy: 0.6667\n",
      "Epoch 50/10000\n",
      "1/6 [====>.........................] - ETA: 0s - loss: 1.6877 - accuracy: 0.2500\n",
      "Epoch 00050: val_loss improved from 1.33442 to 1.32630, saving model to model_checkpoint.h5\n",
      "6/6 [==============================] - 0s 17ms/step - loss: 1.7552 - accuracy: 0.2174 - val_loss: 1.3263 - val_accuracy: 0.6667\n",
      "Epoch 51/10000\n",
      "1/6 [====>.........................] - ETA: 0s - loss: 2.0551 - accuracy: 0.2500\n",
      "Epoch 00051: val_loss did not improve from 1.32630\n",
      "6/6 [==============================] - 0s 12ms/step - loss: 1.7529 - accuracy: 0.3913 - val_loss: 1.3320 - val_accuracy: 0.6667\n",
      "Epoch 52/10000\n",
      "1/6 [====>.........................] - ETA: 0s - loss: 1.5004 - accuracy: 0.5000\n",
      "Epoch 00052: val_loss improved from 1.32630 to 1.32622, saving model to model_checkpoint.h5\n",
      "6/6 [==============================] - 0s 16ms/step - loss: 1.7720 - accuracy: 0.3913 - val_loss: 1.3262 - val_accuracy: 0.6667\n",
      "Epoch 53/10000\n",
      "1/6 [====>.........................] - ETA: 0s - loss: 2.5987 - accuracy: 0.2500\n",
      "Epoch 00053: val_loss did not improve from 1.32622\n",
      "6/6 [==============================] - 0s 18ms/step - loss: 1.6458 - accuracy: 0.4348 - val_loss: 1.3417 - val_accuracy: 0.3333\n",
      "Epoch 54/10000\n",
      "1/6 [====>.........................] - ETA: 0s - loss: 1.6130 - accuracy: 0.2500\n",
      "Epoch 00054: val_loss did not improve from 1.32622\n",
      "6/6 [==============================] - 0s 19ms/step - loss: 1.3878 - accuracy: 0.3478 - val_loss: 1.3522 - val_accuracy: 0.3333\n",
      "Epoch 55/10000\n",
      "1/6 [====>.........................] - ETA: 0s - loss: 2.3337 - accuracy: 0.2500\n",
      "Epoch 00055: val_loss did not improve from 1.32622\n",
      "6/6 [==============================] - 0s 22ms/step - loss: 1.9468 - accuracy: 0.3478 - val_loss: 1.3455 - val_accuracy: 0.3333\n"
     ]
    },
    {
     "name": "stdout",
     "output_type": "stream",
     "text": [
      "Epoch 56/10000\n",
      "1/6 [====>.........................] - ETA: 0s - loss: 2.3391 - accuracy: 0.2500\n",
      "Epoch 00056: val_loss did not improve from 1.32622\n",
      "6/6 [==============================] - 0s 21ms/step - loss: 1.5776 - accuracy: 0.5217 - val_loss: 1.3429 - val_accuracy: 0.3333\n",
      "Epoch 57/10000\n",
      "1/6 [====>.........................] - ETA: 0s - loss: 2.5216 - accuracy: 0.2500\n",
      "Epoch 00057: val_loss did not improve from 1.32622\n",
      "6/6 [==============================] - 0s 21ms/step - loss: 1.6481 - accuracy: 0.3913 - val_loss: 1.3272 - val_accuracy: 0.3333\n",
      "Epoch 58/10000\n",
      "1/6 [====>.........................] - ETA: 0s - loss: 2.4028 - accuracy: 0.2500\n",
      "Epoch 00058: val_loss improved from 1.32622 to 1.31673, saving model to model_checkpoint.h5\n",
      "6/6 [==============================] - 0s 25ms/step - loss: 1.4683 - accuracy: 0.5217 - val_loss: 1.3167 - val_accuracy: 0.3333\n",
      "Epoch 59/10000\n",
      "1/6 [====>.........................] - ETA: 0s - loss: 1.6816 - accuracy: 0.2500\n",
      "Epoch 00059: val_loss improved from 1.31673 to 1.31100, saving model to model_checkpoint.h5\n",
      "6/6 [==============================] - 0s 18ms/step - loss: 1.6724 - accuracy: 0.3043 - val_loss: 1.3110 - val_accuracy: 0.3333\n",
      "Epoch 60/10000\n",
      "1/6 [====>.........................] - ETA: 0s - loss: 2.0491 - accuracy: 0.2500\n",
      "Epoch 00060: val_loss improved from 1.31100 to 1.29109, saving model to model_checkpoint.h5\n",
      "6/6 [==============================] - 0s 18ms/step - loss: 1.6830 - accuracy: 0.3913 - val_loss: 1.2911 - val_accuracy: 0.3333\n",
      "Epoch 61/10000\n",
      "1/6 [====>.........................] - ETA: 0s - loss: 2.8228 - accuracy: 0.2500\n",
      "Epoch 00061: val_loss improved from 1.29109 to 1.26767, saving model to model_checkpoint.h5\n",
      "6/6 [==============================] - 0s 18ms/step - loss: 1.5128 - accuracy: 0.3913 - val_loss: 1.2677 - val_accuracy: 0.6667\n",
      "Epoch 62/10000\n",
      "1/6 [====>.........................] - ETA: 0s - loss: 2.2913 - accuracy: 0.0000e+00\n",
      "Epoch 00062: val_loss improved from 1.26767 to 1.25514, saving model to model_checkpoint.h5\n",
      "6/6 [==============================] - 0s 16ms/step - loss: 2.2062 - accuracy: 0.0870 - val_loss: 1.2551 - val_accuracy: 0.6667\n",
      "Epoch 63/10000\n",
      "1/6 [====>.........................] - ETA: 0s - loss: 1.2374 - accuracy: 0.7500\n",
      "Epoch 00063: val_loss improved from 1.25514 to 1.25235, saving model to model_checkpoint.h5\n",
      "6/6 [==============================] - 0s 23ms/step - loss: 1.5599 - accuracy: 0.4783 - val_loss: 1.2523 - val_accuracy: 0.6667\n",
      "Epoch 64/10000\n",
      "1/6 [====>.........................] - ETA: 0s - loss: 2.1014 - accuracy: 0.5000\n",
      "Epoch 00064: val_loss improved from 1.25235 to 1.24217, saving model to model_checkpoint.h5\n",
      "6/6 [==============================] - 0s 31ms/step - loss: 2.2996 - accuracy: 0.2609 - val_loss: 1.2422 - val_accuracy: 0.6667\n",
      "Epoch 65/10000\n",
      "1/6 [====>.........................] - ETA: 0s - loss: 3.6073 - accuracy: 0.2500\n",
      "Epoch 00065: val_loss improved from 1.24217 to 1.22247, saving model to model_checkpoint.h5\n",
      "6/6 [==============================] - 0s 30ms/step - loss: 2.0545 - accuracy: 0.4783 - val_loss: 1.2225 - val_accuracy: 0.6667\n",
      "Epoch 66/10000\n",
      "1/6 [====>.........................] - ETA: 0s - loss: 1.5996 - accuracy: 0.7500\n",
      "Epoch 00066: val_loss improved from 1.22247 to 1.21309, saving model to model_checkpoint.h5\n",
      "6/6 [==============================] - 0s 25ms/step - loss: 1.3447 - accuracy: 0.5217 - val_loss: 1.2131 - val_accuracy: 0.6667\n",
      "Epoch 67/10000\n",
      "1/6 [====>.........................] - ETA: 0s - loss: 0.6708 - accuracy: 0.5000\n",
      "Epoch 00067: val_loss did not improve from 1.21309\n",
      "6/6 [==============================] - 0s 13ms/step - loss: 1.5731 - accuracy: 0.4348 - val_loss: 1.2163 - val_accuracy: 0.6667\n",
      "Epoch 68/10000\n",
      "1/6 [====>.........................] - ETA: 0s - loss: 2.0805 - accuracy: 0.5000\n",
      "Epoch 00068: val_loss improved from 1.21309 to 1.20080, saving model to model_checkpoint.h5\n",
      "6/6 [==============================] - 0s 20ms/step - loss: 1.6059 - accuracy: 0.3478 - val_loss: 1.2008 - val_accuracy: 0.6667\n",
      "Epoch 69/10000\n",
      "1/6 [====>.........................] - ETA: 0s - loss: 1.3346 - accuracy: 0.2500\n",
      "Epoch 00069: val_loss improved from 1.20080 to 1.17938, saving model to model_checkpoint.h5\n",
      "6/6 [==============================] - 0s 17ms/step - loss: 1.4100 - accuracy: 0.4348 - val_loss: 1.1794 - val_accuracy: 0.6667\n",
      "Epoch 70/10000\n",
      "1/6 [====>.........................] - ETA: 0s - loss: 1.7847 - accuracy: 0.2500\n",
      "Epoch 00070: val_loss did not improve from 1.17938\n",
      "6/6 [==============================] - 0s 12ms/step - loss: 1.5031 - accuracy: 0.3913 - val_loss: 1.1801 - val_accuracy: 0.6667\n",
      "Epoch 71/10000\n",
      "1/6 [====>.........................] - ETA: 0s - loss: 2.0567 - accuracy: 0.2500\n",
      "Epoch 00071: val_loss did not improve from 1.17938\n",
      "6/6 [==============================] - 0s 11ms/step - loss: 2.0642 - accuracy: 0.3043 - val_loss: 1.1940 - val_accuracy: 0.6667\n",
      "Epoch 72/10000\n",
      "1/6 [====>.........................] - ETA: 0s - loss: 1.2390 - accuracy: 0.7500\n",
      "Epoch 00072: val_loss did not improve from 1.17938\n",
      "6/6 [==============================] - 0s 11ms/step - loss: 0.9286 - accuracy: 0.6522 - val_loss: 1.2095 - val_accuracy: 0.6667\n",
      "Epoch 73/10000\n",
      "1/6 [====>.........................] - ETA: 0s - loss: 1.9354 - accuracy: 0.5000\n",
      "Epoch 00073: val_loss did not improve from 1.17938\n",
      "6/6 [==============================] - 0s 12ms/step - loss: 1.4948 - accuracy: 0.4348 - val_loss: 1.2018 - val_accuracy: 0.6667\n",
      "Epoch 74/10000\n",
      "1/6 [====>.........................] - ETA: 0s - loss: 2.1809 - accuracy: 0.2500\n",
      "Epoch 00074: val_loss did not improve from 1.17938\n",
      "6/6 [==============================] - 0s 12ms/step - loss: 1.4815 - accuracy: 0.4348 - val_loss: 1.1998 - val_accuracy: 0.6667\n",
      "Epoch 75/10000\n",
      "1/6 [====>.........................] - ETA: 0s - loss: 1.0086 - accuracy: 0.5000\n",
      "Epoch 00075: val_loss improved from 1.17938 to 1.17336, saving model to model_checkpoint.h5\n",
      "6/6 [==============================] - 0s 17ms/step - loss: 1.7065 - accuracy: 0.4783 - val_loss: 1.1734 - val_accuracy: 0.6667\n",
      "Epoch 76/10000\n",
      "1/6 [====>.........................] - ETA: 0s - loss: 2.0658 - accuracy: 0.2500\n",
      "Epoch 00076: val_loss improved from 1.17336 to 1.15836, saving model to model_checkpoint.h5\n",
      "6/6 [==============================] - 0s 17ms/step - loss: 1.8411 - accuracy: 0.4348 - val_loss: 1.1584 - val_accuracy: 0.6667\n",
      "Epoch 77/10000\n",
      "1/6 [====>.........................] - ETA: 0s - loss: 1.8880 - accuracy: 0.2500\n",
      "Epoch 00077: val_loss did not improve from 1.15836\n",
      "6/6 [==============================] - 0s 12ms/step - loss: 1.2589 - accuracy: 0.4783 - val_loss: 1.1603 - val_accuracy: 0.6667\n",
      "Epoch 78/10000\n",
      "1/6 [====>.........................] - ETA: 0s - loss: 1.0920 - accuracy: 0.2500\n",
      "Epoch 00078: val_loss improved from 1.15836 to 1.15277, saving model to model_checkpoint.h5\n",
      "6/6 [==============================] - 0s 16ms/step - loss: 1.1154 - accuracy: 0.4783 - val_loss: 1.1528 - val_accuracy: 0.6667\n",
      "Epoch 79/10000\n",
      "1/6 [====>.........................] - ETA: 0s - loss: 1.7628 - accuracy: 0.5000\n",
      "Epoch 00079: val_loss improved from 1.15277 to 1.14065, saving model to model_checkpoint.h5\n",
      "6/6 [==============================] - 0s 18ms/step - loss: 1.3102 - accuracy: 0.5652 - val_loss: 1.1407 - val_accuracy: 0.6667\n",
      "Epoch 80/10000\n",
      "1/6 [====>.........................] - ETA: 0s - loss: 0.8411 - accuracy: 0.5000\n",
      "Epoch 00080: val_loss improved from 1.14065 to 1.13227, saving model to model_checkpoint.h5\n",
      "6/6 [==============================] - 0s 17ms/step - loss: 1.5258 - accuracy: 0.3043 - val_loss: 1.1323 - val_accuracy: 0.6667\n",
      "Epoch 81/10000\n",
      "1/6 [====>.........................] - ETA: 0s - loss: 1.0070 - accuracy: 0.7500\n",
      "Epoch 00081: val_loss did not improve from 1.13227\n",
      "6/6 [==============================] - 0s 11ms/step - loss: 1.4390 - accuracy: 0.6087 - val_loss: 1.1484 - val_accuracy: 0.6667\n",
      "Epoch 82/10000\n",
      "1/6 [====>.........................] - ETA: 0s - loss: 1.4727 - accuracy: 0.2500\n",
      "Epoch 00082: val_loss did not improve from 1.13227\n",
      "6/6 [==============================] - 0s 12ms/step - loss: 1.5840 - accuracy: 0.3478 - val_loss: 1.1464 - val_accuracy: 0.6667\n",
      "Epoch 83/10000\n",
      "1/6 [====>.........................] - ETA: 0s - loss: 1.7376 - accuracy: 0.2500\n",
      "Epoch 00083: val_loss did not improve from 1.13227\n",
      "6/6 [==============================] - 0s 12ms/step - loss: 1.2305 - accuracy: 0.5217 - val_loss: 1.1367 - val_accuracy: 0.6667\n"
     ]
    },
    {
     "name": "stdout",
     "output_type": "stream",
     "text": [
      "Epoch 84/10000\n",
      "1/6 [====>.........................] - ETA: 0s - loss: 0.3583 - accuracy: 1.0000\n",
      "Epoch 00084: val_loss improved from 1.13227 to 1.12240, saving model to model_checkpoint.h5\n",
      "6/6 [==============================] - 0s 18ms/step - loss: 1.0146 - accuracy: 0.6522 - val_loss: 1.1224 - val_accuracy: 0.6667\n",
      "Epoch 85/10000\n",
      "1/6 [====>.........................] - ETA: 0s - loss: 2.7203 - accuracy: 0.0000e+00\n",
      "Epoch 00085: val_loss improved from 1.12240 to 1.11357, saving model to model_checkpoint.h5\n",
      "6/6 [==============================] - 0s 16ms/step - loss: 1.4157 - accuracy: 0.5217 - val_loss: 1.1136 - val_accuracy: 0.6667\n",
      "Epoch 86/10000\n",
      "1/6 [====>.........................] - ETA: 0s - loss: 1.8087 - accuracy: 0.5000\n",
      "Epoch 00086: val_loss improved from 1.11357 to 1.09124, saving model to model_checkpoint.h5\n",
      "6/6 [==============================] - 0s 17ms/step - loss: 1.6237 - accuracy: 0.4783 - val_loss: 1.0912 - val_accuracy: 0.6667\n",
      "Epoch 87/10000\n",
      "1/6 [====>.........................] - ETA: 0s - loss: 0.7692 - accuracy: 0.5000\n",
      "Epoch 00087: val_loss improved from 1.09124 to 1.07885, saving model to model_checkpoint.h5\n",
      "6/6 [==============================] - 0s 17ms/step - loss: 1.4629 - accuracy: 0.4783 - val_loss: 1.0788 - val_accuracy: 0.6667\n",
      "Epoch 88/10000\n",
      "1/6 [====>.........................] - ETA: 0s - loss: 1.2439 - accuracy: 0.7500\n",
      "Epoch 00088: val_loss improved from 1.07885 to 1.07444, saving model to model_checkpoint.h5\n",
      "6/6 [==============================] - 0s 17ms/step - loss: 1.8865 - accuracy: 0.4348 - val_loss: 1.0744 - val_accuracy: 0.6667\n",
      "Epoch 89/10000\n",
      "1/6 [====>.........................] - ETA: 0s - loss: 3.0545 - accuracy: 0.2500\n",
      "Epoch 00089: val_loss did not improve from 1.07444\n",
      "6/6 [==============================] - 0s 12ms/step - loss: 1.5685 - accuracy: 0.5217 - val_loss: 1.0754 - val_accuracy: 0.6667\n",
      "Epoch 90/10000\n",
      "1/6 [====>.........................] - ETA: 0s - loss: 2.5199 - accuracy: 0.2500\n",
      "Epoch 00090: val_loss did not improve from 1.07444\n",
      "6/6 [==============================] - 0s 11ms/step - loss: 1.7080 - accuracy: 0.4348 - val_loss: 1.0753 - val_accuracy: 0.6667\n",
      "Epoch 91/10000\n",
      "1/6 [====>.........................] - ETA: 0s - loss: 0.7641 - accuracy: 0.5000\n",
      "Epoch 00091: val_loss did not improve from 1.07444\n",
      "6/6 [==============================] - 0s 11ms/step - loss: 1.7254 - accuracy: 0.3043 - val_loss: 1.0847 - val_accuracy: 0.6667\n",
      "Epoch 92/10000\n",
      "1/6 [====>.........................] - ETA: 0s - loss: 1.2447 - accuracy: 0.5000\n",
      "Epoch 00092: val_loss did not improve from 1.07444\n",
      "6/6 [==============================] - 0s 17ms/step - loss: 1.2116 - accuracy: 0.5217 - val_loss: 1.0771 - val_accuracy: 0.6667\n",
      "Epoch 93/10000\n",
      "1/6 [====>.........................] - ETA: 0s - loss: 0.5365 - accuracy: 1.0000\n",
      "Epoch 00093: val_loss did not improve from 1.07444\n",
      "6/6 [==============================] - 0s 21ms/step - loss: 1.0814 - accuracy: 0.4783 - val_loss: 1.0748 - val_accuracy: 0.6667\n",
      "Epoch 94/10000\n",
      "1/6 [====>.........................] - ETA: 0s - loss: 3.0850 - accuracy: 0.0000e+00\n",
      "Epoch 00094: val_loss improved from 1.07444 to 1.07277, saving model to model_checkpoint.h5\n",
      "6/6 [==============================] - 0s 37ms/step - loss: 1.6006 - accuracy: 0.3478 - val_loss: 1.0728 - val_accuracy: 0.6667\n",
      "Epoch 95/10000\n",
      "1/6 [====>.........................] - ETA: 0s - loss: 1.8706 - accuracy: 0.5000\n",
      "Epoch 00095: val_loss did not improve from 1.07277\n",
      "6/6 [==============================] - 0s 24ms/step - loss: 1.1524 - accuracy: 0.5217 - val_loss: 1.0926 - val_accuracy: 0.6667\n",
      "Epoch 96/10000\n",
      "1/6 [====>.........................] - ETA: 0s - loss: 1.6486 - accuracy: 0.7500\n",
      "Epoch 00096: val_loss did not improve from 1.07277\n",
      "6/6 [==============================] - 0s 20ms/step - loss: 1.4634 - accuracy: 0.4783 - val_loss: 1.0795 - val_accuracy: 0.6667\n",
      "Epoch 97/10000\n",
      "1/6 [====>.........................] - ETA: 0s - loss: 1.6429 - accuracy: 0.2500\n",
      "Epoch 00097: val_loss did not improve from 1.07277\n",
      "6/6 [==============================] - 0s 14ms/step - loss: 1.4187 - accuracy: 0.3478 - val_loss: 1.1094 - val_accuracy: 0.6667\n",
      "Epoch 98/10000\n",
      "1/6 [====>.........................] - ETA: 0s - loss: 0.4571 - accuracy: 1.0000\n",
      "Epoch 00098: val_loss did not improve from 1.07277\n",
      "6/6 [==============================] - 0s 12ms/step - loss: 1.2971 - accuracy: 0.5652 - val_loss: 1.1235 - val_accuracy: 0.6667\n",
      "Epoch 99/10000\n",
      "1/6 [====>.........................] - ETA: 0s - loss: 0.9161 - accuracy: 0.7500\n",
      "Epoch 00099: val_loss did not improve from 1.07277\n",
      "6/6 [==============================] - 0s 11ms/step - loss: 1.1281 - accuracy: 0.4348 - val_loss: 1.1251 - val_accuracy: 0.6667\n",
      "Epoch 100/10000\n",
      "1/6 [====>.........................] - ETA: 0s - loss: 1.2384 - accuracy: 0.5000\n",
      "Epoch 00100: val_loss did not improve from 1.07277\n",
      "6/6 [==============================] - 0s 15ms/step - loss: 1.2965 - accuracy: 0.5217 - val_loss: 1.1396 - val_accuracy: 0.6667\n",
      "Epoch 101/10000\n",
      "1/6 [====>.........................] - ETA: 0s - loss: 0.6118 - accuracy: 0.7500\n",
      "Epoch 00101: val_loss did not improve from 1.07277\n",
      "6/6 [==============================] - 0s 19ms/step - loss: 1.1161 - accuracy: 0.5652 - val_loss: 1.1910 - val_accuracy: 0.6667\n",
      "Epoch 102/10000\n",
      "1/6 [====>.........................] - ETA: 0s - loss: 0.8875 - accuracy: 0.5000\n",
      "Epoch 00102: val_loss did not improve from 1.07277\n",
      "6/6 [==============================] - 0s 19ms/step - loss: 0.9894 - accuracy: 0.5217 - val_loss: 1.1920 - val_accuracy: 0.6667\n",
      "model created\n"
     ]
    }
   ],
   "source": [
    "#Batch normalization\n",
    "model = Sequential()\n",
    "model.add(Dense(256, input_shape=(len(train_x[0]),), activation='relu'))\n",
    "model.add(BatchNormalization())\n",
    "model.add(Dropout(0.5))\n",
    "model.add(Dense(128, activation='relu'))\n",
    "model.add(BatchNormalization())\n",
    "model.add(Dropout(0.5))\n",
    "model.add(Dense(64, activation='relu'))\n",
    "model.add(BatchNormalization())\n",
    "model.add(Dropout(0.5))\n",
    "model.add(Dense(len(train_y[0]), activation='softmax'))\n",
    "# Compile model. Stochastic gradient descent with Nesterov accelerated gradient gives good results for this model\n",
    "sgd = SGD(lr=0.0001, decay=1e-6, momentum=0.9, nesterov=True)\n",
    "model.compile(loss='categorical_crossentropy', optimizer=sgd, metrics=['accuracy'])\n",
    "#fitting and saving the model \n",
    "\n",
    "hist = model.fit(np.array(train_x), np.array(train_y), epochs=10000, batch_size=4, validation_data=(val_x, val_y), verbose=True, callbacks = my_callbacks)\n",
    "model.save('chatbot_model.h5', hist)\n",
    "\n",
    "print(\"model created\")"
   ]
  },
  {
   "cell_type": "code",
   "execution_count": 18,
   "id": "c98c3bf4",
   "metadata": {},
   "outputs": [
    {
     "data": {
      "image/png": "[encoded data removed]",
      "text/plain": [
       "<Figure size 432x288 with 1 Axes>"
      ]
     },
     "metadata": {},
     "output_type": "display_data"
    }
   ],
   "source": [
    "import matplotlib.pyplot as plt\n",
    "%matplotlib inline\n",
    "\n",
    "plt.rcParams[\"axes.grid\"] = False\n",
    "plt.rcParams.update({'font.size': 20})\n",
    "plt.style.use(\"seaborn-ticks\")\n",
    "\n",
    "plt.plot(hist.history['accuracy'])\n",
    "plt.plot(hist.history['val_accuracy'])\n",
    "plt.title('model accuracy')\n",
    "plt.ylabel('Accuracy')\n",
    "plt.xlabel('Epoch')\n",
    "plt.legend(['Training Acc', 'Test Acc'], loc='upper left')\n",
    "plt.show()"
   ]
  },
  {
   "cell_type": "code",
   "execution_count": null,
   "id": "af1c6b74",
   "metadata": {},
   "outputs": [],
   "source": []
  }
 ],
 "metadata": {
  "kernelspec": {
   "display_name": "jupyterenvironment",
   "language": "python",
   "name": "jupyterenvironment"
  },
  "language_info": {
   "codemirror_mode": {
    "name": "ipython",
    "version": 3
   },
   "file_extension": ".py",
   "mimetype": "text/x-python",
   "name": "python",
   "nbconvert_exporter": "python",
   "pygments_lexer": "ipython3",
   "version": "3.9.5"
  }
 },
 "nbformat": 4,
 "nbformat_minor": 5
}
