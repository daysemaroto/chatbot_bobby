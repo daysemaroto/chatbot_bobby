{
 "cells": [
  {
   "cell_type": "code",
   "execution_count": 1,
   "id": "89f040ce",
   "metadata": {},
   "outputs": [
    {
     "name": "stdout",
     "output_type": "stream",
     "text": [
      "Requirement already satisfied: openpyxl in /home/user/code/jupyterenvironment/lib/python3.9/site-packages (3.0.9)\r\n",
      "Requirement already satisfied: et-xmlfile in /home/user/code/jupyterenvironment/lib/python3.9/site-packages (from openpyxl) (1.1.0)\r\n"
     ]
    }
   ],
   "source": [
    "!pip install openpyxl"
   ]
  },
  {
   "cell_type": "code",
   "execution_count": 2,
   "id": "bdea39b9",
   "metadata": {},
   "outputs": [
    {
     "name": "stderr",
     "output_type": "stream",
     "text": [
      "2021-12-17 15:35:19.861593: W tensorflow/stream_executor/platform/default/dso_loader.cc:64] Could not load dynamic library 'libcudart.so.11.0'; dlerror: libcudart.so.11.0: cannot open shared object file: No such file or directory\n",
      "2021-12-17 15:35:19.861629: I tensorflow/stream_executor/cuda/cudart_stub.cc:29] Ignore above cudart dlerror if you do not have a GPU set up on your machine.\n",
      "[nltk_data] Downloading package stopwords to /home/user/nltk_data...\n",
      "[nltk_data]   Package stopwords is already up-to-date!\n"
     ]
    },
    {
     "data": {
      "application/vnd.jupyter.widget-view+json": {
       "model_id": "17b136f585924ab6a392b6515dc3dab0",
       "version_major": 2,
       "version_minor": 0
      },
      "text/plain": [
       "Downloading https://raw.githubusercontent.com/stanfordnlp/stanza-resources/main/resources_1.3.0.json:   0%|   …"
      ]
     },
     "metadata": {},
     "output_type": "display_data"
    },
    {
     "name": "stderr",
     "output_type": "stream",
     "text": [
      "2021-12-17 15:35:22 INFO: Downloading default packages for language: es (Spanish)...\n",
      "2021-12-17 15:35:23 INFO: File exists: /home/user/stanza_resources/es/default.zip.\n",
      "2021-12-17 15:35:29 INFO: Finished downloading models and saved to /home/user/stanza_resources.\n",
      "2021-12-17 15:35:29 INFO: Loading these models for language: es (Spanish):\n",
      "=======================\n",
      "| Processor | Package |\n",
      "-----------------------\n",
      "| tokenize  | ancora  |\n",
      "| mwt       | ancora  |\n",
      "| pos       | ancora  |\n",
      "| lemma     | ancora  |\n",
      "| depparse  | ancora  |\n",
      "| ner       | conll02 |\n",
      "=======================\n",
      "\n",
      "2021-12-17 15:35:29 INFO: Use device: cpu\n",
      "2021-12-17 15:35:29 INFO: Loading: tokenize\n",
      "2021-12-17 15:35:29 INFO: Loading: mwt\n",
      "2021-12-17 15:35:29 INFO: Loading: pos\n",
      "2021-12-17 15:35:29 INFO: Loading: lemma\n",
      "2021-12-17 15:35:29 INFO: Loading: depparse\n",
      "2021-12-17 15:35:29 INFO: Loading: ner\n",
      "2021-12-17 15:35:31 INFO: Done loading processors!\n"
     ]
    }
   ],
   "source": [
    "import pandas as pd\n",
    "from utils import *"
   ]
  },
  {
   "cell_type": "code",
   "execution_count": 3,
   "id": "74b8ccf7",
   "metadata": {},
   "outputs": [],
   "source": [
    "sanos = pd.read_excel('ALIMENTOS.xlsx', sheet_name='SANOS', index_col=False)\n",
    "nosanos = pd.read_excel('ALIMENTOS.xlsx', sheet_name='NO_SANOS', index_col=False)"
   ]
  },
  {
   "cell_type": "code",
   "execution_count": 4,
   "id": "db5f085f",
   "metadata": {},
   "outputs": [],
   "source": [
    "sanos.alimento = sanos.alimento.str.normalize('NFKD').str.encode('ascii', errors='ignore').str.decode('utf-8').str.lower()\n",
    "sanos.clase = sanos.clase.str.lower()\n",
    "nosanos.alimento = nosanos.alimento.str.normalize('NFKD').str.encode('ascii', errors='ignore').str.decode('utf-8').str.lower()\n",
    "nosanos.clase = nosanos.clase.str.lower()"
   ]
  },
  {
   "cell_type": "code",
   "execution_count": 5,
   "id": "2582a30d",
   "metadata": {},
   "outputs": [],
   "source": [
    "sanos.clase = sanos.clase.str.replace('fruto_seco','frutoseco')"
   ]
  },
  {
   "cell_type": "code",
   "execution_count": 6,
   "id": "903147b4",
   "metadata": {},
   "outputs": [
    {
     "data": {
      "text/html": [
       "<div>\n",
       "<style scoped>\n",
       "    .dataframe tbody tr th:only-of-type {\n",
       "        vertical-align: middle;\n",
       "    }\n",
       "\n",
       "    .dataframe tbody tr th {\n",
       "        vertical-align: top;\n",
       "    }\n",
       "\n",
       "    .dataframe thead th {\n",
       "        text-align: right;\n",
       "    }\n",
       "</style>\n",
       "<table border=\"1\" class=\"dataframe\">\n",
       "  <thead>\n",
       "    <tr style=\"text-align: right;\">\n",
       "      <th></th>\n",
       "      <th>clase</th>\n",
       "      <th>alimento</th>\n",
       "    </tr>\n",
       "  </thead>\n",
       "  <tbody>\n",
       "    <tr>\n",
       "      <th>0</th>\n",
       "      <td>frutas</td>\n",
       "      <td>albaricoque</td>\n",
       "    </tr>\n",
       "    <tr>\n",
       "      <th>1</th>\n",
       "      <td>frutas</td>\n",
       "      <td>arandano</td>\n",
       "    </tr>\n",
       "    <tr>\n",
       "      <th>2</th>\n",
       "      <td>frutas</td>\n",
       "      <td>breva</td>\n",
       "    </tr>\n",
       "    <tr>\n",
       "      <th>3</th>\n",
       "      <td>frutas</td>\n",
       "      <td>cereza</td>\n",
       "    </tr>\n",
       "    <tr>\n",
       "      <th>4</th>\n",
       "      <td>frutas</td>\n",
       "      <td>ciruela</td>\n",
       "    </tr>\n",
       "  </tbody>\n",
       "</table>\n",
       "</div>"
      ],
      "text/plain": [
       "    clase     alimento\n",
       "0  frutas  albaricoque\n",
       "1  frutas     arandano\n",
       "2  frutas        breva\n",
       "3  frutas       cereza\n",
       "4  frutas      ciruela"
      ]
     },
     "execution_count": 6,
     "metadata": {},
     "output_type": "execute_result"
    }
   ],
   "source": [
    "sanos.head()"
   ]
  },
  {
   "cell_type": "code",
   "execution_count": 7,
   "id": "37a298ee",
   "metadata": {},
   "outputs": [],
   "source": [
    "sanos['lemma'] = sanos.apply(aliment_lemma,axis=1)\n",
    "nosanos['lemma'] = nosanos.apply(aliment_lemma,axis=1)\n",
    "\n",
    "sanos['clase_lemma'] = sanos.apply(clase_lemma,axis=1)\n",
    "nosanos['clase_lemma'] = nosanos.apply(clase_lemma,axis=1)"
   ]
  },
  {
   "cell_type": "code",
   "execution_count": 8,
   "id": "069769b8",
   "metadata": {},
   "outputs": [
    {
     "data": {
      "text/plain": [
       "array(['frutas', 'frutoseco', 'vegetales', 'carbohidratos', 'proteinas',\n",
       "       'lacteos'], dtype=object)"
      ]
     },
     "execution_count": 8,
     "metadata": {},
     "output_type": "execute_result"
    }
   ],
   "source": [
    "sanos.clase.unique()"
   ]
  },
  {
   "cell_type": "code",
   "execution_count": 19,
   "id": "72ddb640",
   "metadata": {},
   "outputs": [
    {
     "data": {
      "text/html": [
       "<div>\n",
       "<style scoped>\n",
       "    .dataframe tbody tr th:only-of-type {\n",
       "        vertical-align: middle;\n",
       "    }\n",
       "\n",
       "    .dataframe tbody tr th {\n",
       "        vertical-align: top;\n",
       "    }\n",
       "\n",
       "    .dataframe thead th {\n",
       "        text-align: right;\n",
       "    }\n",
       "</style>\n",
       "<table border=\"1\" class=\"dataframe\">\n",
       "  <thead>\n",
       "    <tr style=\"text-align: right;\">\n",
       "      <th></th>\n",
       "      <th>clase</th>\n",
       "      <th>alimento</th>\n",
       "      <th>lemma</th>\n",
       "      <th>clase_lemma</th>\n",
       "    </tr>\n",
       "  </thead>\n",
       "  <tbody>\n",
       "    <tr>\n",
       "      <th>72</th>\n",
       "      <td>proteinas</td>\n",
       "      <td>carne</td>\n",
       "      <td>carne</td>\n",
       "      <td>proteina</td>\n",
       "    </tr>\n",
       "    <tr>\n",
       "      <th>73</th>\n",
       "      <td>proteinas</td>\n",
       "      <td>chancho</td>\n",
       "      <td>chancho</td>\n",
       "      <td>proteina</td>\n",
       "    </tr>\n",
       "    <tr>\n",
       "      <th>74</th>\n",
       "      <td>proteinas</td>\n",
       "      <td>cerdo</td>\n",
       "      <td>cerdo</td>\n",
       "      <td>proteina</td>\n",
       "    </tr>\n",
       "    <tr>\n",
       "      <th>75</th>\n",
       "      <td>proteinas</td>\n",
       "      <td>pescado</td>\n",
       "      <td>pescado</td>\n",
       "      <td>proteina</td>\n",
       "    </tr>\n",
       "    <tr>\n",
       "      <th>76</th>\n",
       "      <td>proteinas</td>\n",
       "      <td>pez</td>\n",
       "      <td>pez</td>\n",
       "      <td>proteina</td>\n",
       "    </tr>\n",
       "    <tr>\n",
       "      <th>77</th>\n",
       "      <td>proteinas</td>\n",
       "      <td>atun</td>\n",
       "      <td>atun</td>\n",
       "      <td>proteina</td>\n",
       "    </tr>\n",
       "    <tr>\n",
       "      <th>78</th>\n",
       "      <td>proteinas</td>\n",
       "      <td>tilapia</td>\n",
       "      <td>tilapia</td>\n",
       "      <td>proteina</td>\n",
       "    </tr>\n",
       "    <tr>\n",
       "      <th>79</th>\n",
       "      <td>proteinas</td>\n",
       "      <td>sardina</td>\n",
       "      <td>sardina</td>\n",
       "      <td>proteina</td>\n",
       "    </tr>\n",
       "    <tr>\n",
       "      <th>80</th>\n",
       "      <td>proteinas</td>\n",
       "      <td>pollo</td>\n",
       "      <td>pollo</td>\n",
       "      <td>proteina</td>\n",
       "    </tr>\n",
       "    <tr>\n",
       "      <th>81</th>\n",
       "      <td>proteinas</td>\n",
       "      <td>gallina</td>\n",
       "      <td>gallina</td>\n",
       "      <td>proteina</td>\n",
       "    </tr>\n",
       "    <tr>\n",
       "      <th>82</th>\n",
       "      <td>proteinas</td>\n",
       "      <td>pavo</td>\n",
       "      <td>pavo</td>\n",
       "      <td>proteina</td>\n",
       "    </tr>\n",
       "    <tr>\n",
       "      <th>83</th>\n",
       "      <td>proteinas</td>\n",
       "      <td>huevo</td>\n",
       "      <td>huevo</td>\n",
       "      <td>proteina</td>\n",
       "    </tr>\n",
       "  </tbody>\n",
       "</table>\n",
       "</div>"
      ],
      "text/plain": [
       "        clase alimento    lemma clase_lemma\n",
       "72  proteinas    carne    carne    proteina\n",
       "73  proteinas  chancho  chancho    proteina\n",
       "74  proteinas    cerdo    cerdo    proteina\n",
       "75  proteinas  pescado  pescado    proteina\n",
       "76  proteinas      pez      pez    proteina\n",
       "77  proteinas     atun     atun    proteina\n",
       "78  proteinas  tilapia  tilapia    proteina\n",
       "79  proteinas  sardina  sardina    proteina\n",
       "80  proteinas    pollo    pollo    proteina\n",
       "81  proteinas  gallina  gallina    proteina\n",
       "82  proteinas     pavo     pavo    proteina\n",
       "83  proteinas    huevo    huevo    proteina"
      ]
     },
     "execution_count": 19,
     "metadata": {},
     "output_type": "execute_result"
    }
   ],
   "source": [
    "sanos[sanos.clase == 'proteinas'] #for exploring"
   ]
  },
  {
   "cell_type": "code",
   "execution_count": 10,
   "id": "0db59e47",
   "metadata": {},
   "outputs": [],
   "source": [
    "sanos.clase_lemma = sanos.clase_lemma.str.replace('frutonecer','frutoseco')"
   ]
  },
  {
   "cell_type": "code",
   "execution_count": 11,
   "id": "44666b59",
   "metadata": {},
   "outputs": [
    {
     "data": {
      "text/html": [
       "<div>\n",
       "<style scoped>\n",
       "    .dataframe tbody tr th:only-of-type {\n",
       "        vertical-align: middle;\n",
       "    }\n",
       "\n",
       "    .dataframe tbody tr th {\n",
       "        vertical-align: top;\n",
       "    }\n",
       "\n",
       "    .dataframe thead th {\n",
       "        text-align: right;\n",
       "    }\n",
       "</style>\n",
       "<table border=\"1\" class=\"dataframe\">\n",
       "  <thead>\n",
       "    <tr style=\"text-align: right;\">\n",
       "      <th></th>\n",
       "      <th>clase</th>\n",
       "      <th>alimento</th>\n",
       "      <th>lemma</th>\n",
       "      <th>clase_lemma</th>\n",
       "    </tr>\n",
       "  </thead>\n",
       "  <tbody>\n",
       "  </tbody>\n",
       "</table>\n",
       "</div>"
      ],
      "text/plain": [
       "Empty DataFrame\n",
       "Columns: [clase, alimento, lemma, clase_lemma]\n",
       "Index: []"
      ]
     },
     "execution_count": 11,
     "metadata": {},
     "output_type": "execute_result"
    }
   ],
   "source": [
    "nosanos[nosanos.clase == 'dulces']"
   ]
  },
  {
   "cell_type": "code",
   "execution_count": 12,
   "id": "24e3d29e",
   "metadata": {},
   "outputs": [],
   "source": [
    "#saving to pkl\n",
    "sanos.to_pickle('sanos.pkl')\n",
    "nosanos.to_pickle('nosanos.pkl')"
   ]
  },
  {
   "cell_type": "code",
   "execution_count": null,
   "id": "a4ec3f8c",
   "metadata": {},
   "outputs": [],
   "source": []
  }
 ],
 "metadata": {
  "kernelspec": {
   "display_name": "jupyterenvironment",
   "language": "python",
   "name": "jupyterenvironment"
  },
  "language_info": {
   "codemirror_mode": {
    "name": "ipython",
    "version": 3
   },
   "file_extension": ".py",
   "mimetype": "text/x-python",
   "name": "python",
   "nbconvert_exporter": "python",
   "pygments_lexer": "ipython3",
   "version": "3.9.5"
  }
 },
 "nbformat": 4,
 "nbformat_minor": 5
}
